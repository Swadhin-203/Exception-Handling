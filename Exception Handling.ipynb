{
 "cells": [
  {
   "cell_type": "markdown",
   "id": "fda21511",
   "metadata": {},
   "source": [
    "Q1. What isan Exception in python? Write the difference between Exceptions and syntax errors?\n",
    "\n",
    "Ans:An exception in Python is an error that occurs during program execution. When the interpreter encounters an exceptional condition, such as a division by zero or an invalid file operation, it raises an exception. This stops the normal flow of the program and transfers control to a special code block called an exception handler.\n",
    "\n",
    "There are three types of exceptions in Python:\n",
    "\n",
    "Syntax errors: These occur when the code is not written according to the syntax rules of the language. They are detected by the interpreter before the program is run.\n",
    "\n",
    "Runtime errors: These occur during program execution, when something unexpected happens that prevents the program from continuing. Examples include division by zero, accessing a non-existent index of a list, or trying to open a file that doesn't exist.\n",
    "\n",
    "Logical errors: These occur when the program runs without any errors, but produces incorrect results. They are caused by a flaw in the logic of the program.\n",
    "\n",
    "The main difference between exceptions and syntax errors is that syntax errors are detected by the interpreter before the program is run, while exceptions occur during program execution. The difference between exceptions and logical errors is that exceptions are caused by exceptional conditions, while logical errors are caused by flaws in the program's logic."
   ]
  },
  {
   "cell_type": "markdown",
   "id": "4eb0b751",
   "metadata": {},
   "source": [
    "Q2-What happens when an exception is not handled?Explain with an example.\n",
    "Ans:When an exception is not handled, it will cause the program to terminate and an error message will be displayed. This is because the default behavior of Python is to stop the program execution when an unhandled exception is raised.\n",
    "try:\n",
    "    x = 1 / 0\n",
    "except ValueError:\n",
    "    print(\"ValueError occurred\")\n"
   ]
  },
  {
   "cell_type": "code",
   "execution_count": null,
   "id": "c57bcb0b",
   "metadata": {},
   "outputs": [],
   "source": [
    "# Q3. Which Python statements are used to , catch and handle ex,eptions? Explain with an example\n",
    "# Ans:The try and except statements are used to catch and handle exceptions in Python.\n",
    "# The try statement is used to enclose the code that may raise an exception.\n",
    "# The except statement is used to define a block of code that should be executed if an exception is raised inside the try block.\n"
   ]
  },
  {
   "cell_type": "markdown",
   "id": "a0cdeb52",
   "metadata": {},
   "source": [
    "Q4- Expalin with an example\n",
    "A.try and else\n",
    "B.finally\n",
    "C.Raise\n",
    "Ans:\n",
    "A. try and else are control flow statements in Python that allow you to handle exceptions in your code. The try block is used to wrap a section of code that might raise an exception. If an exception is raised, the code in the try block stops executing, and Python jumpswhether an exception was raised or not, the finally block will always be executed and the file.close() statement will close the file.\n",
    "\n",
    "C. raise is a keyword in Python that is used to manually raise an exception in your code. You can use the raise keyword to throw an exception with a specified message or error type."
   ]
  },
  {
   "cell_type": "code",
   "execution_count": 1,
   "id": "ec2e7fce",
   "metadata": {},
   "outputs": [
    {
     "name": "stdout",
     "output_type": "stream",
     "text": [
      "Rectangle dimensions must be positive.\n"
     ]
    }
   ],
   "source": [
    "# Q5-What are the custom exceptions in python?Why do we need  coustum conception?Expalin with an example.\n",
    "# Ans:\n",
    "# Custom exceptions in Python are exceptions that you define yourself. \n",
    "# You can create your own exception classes by subclassing the built-in Exception class or one of its subclasses, such as \n",
    "# ValueError, TypeError, or RuntimeError.Custom exceptions are useful when you want to raise an exception that is specific to \n",
    "# your program or application. For example, if you are writing a program that calculates the area of a rectangle, you might want\n",
    "# to raise a custom exception if the width or height of the rectangle is negative.\n",
    "class NegativeRectangleDimensionError(ValueError):\n",
    "    pass\n",
    "\n",
    "def calculate_area(width, height):\n",
    "    if width < 0 or height < 0:\n",
    "        raise NegativeRectangleDimensionError(\"Rectangle dimensions must be positive.\")\n",
    "    else:\n",
    "        return width * height\n",
    "\n",
    "try:\n",
    "    area = calculate_area(-2, 3)\n",
    "except NegativeRectangleDimensionError as error:\n",
    "    print(error)\n"
   ]
  },
  {
   "cell_type": "code",
   "execution_count": null,
   "id": "ba8da569",
   "metadata": {},
   "outputs": [],
   "source": [
    "# Q6-Create a costum exception class?Use this class to expalin exception?\n",
    "class UnderAgeError(Exception):\n",
    "    def __init__(self, message):\n",
    "        self.message = message\n",
    "\n",
    "age = int(input(\"Enter your age: \"))\n",
    "if age < 18:\n",
    "    raise UnderAgeError(\"You are not eligible to vote.\")\n",
    "else:\n",
    "    print(\"You are eligible to vote.\")\n"
   ]
  },
  {
   "cell_type": "code",
   "execution_count": null,
   "id": "7ed3d263",
   "metadata": {},
   "outputs": [],
   "source": []
  },
  {
   "cell_type": "code",
   "execution_count": null,
   "id": "2523d2d8",
   "metadata": {},
   "outputs": [],
   "source": []
  },
  {
   "cell_type": "code",
   "execution_count": null,
   "id": "136e4d87",
   "metadata": {},
   "outputs": [],
   "source": []
  },
  {
   "cell_type": "code",
   "execution_count": null,
   "id": "afba78e5",
   "metadata": {},
   "outputs": [],
   "source": []
  }
 ],
 "metadata": {
  "kernelspec": {
   "display_name": "Python 3 (ipykernel)",
   "language": "python",
   "name": "python3"
  },
  "language_info": {
   "codemirror_mode": {
    "name": "ipython",
    "version": 3
   },
   "file_extension": ".py",
   "mimetype": "text/x-python",
   "name": "python",
   "nbconvert_exporter": "python",
   "pygments_lexer": "ipython3",
   "version": "3.10.5"
  }
 },
 "nbformat": 4,
 "nbformat_minor": 5
}
